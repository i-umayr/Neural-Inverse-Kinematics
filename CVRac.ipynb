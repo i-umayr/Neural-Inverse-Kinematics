{
 "cells": [
  {
   "cell_type": "code",
   "execution_count": 2,
   "metadata": {
    "id": "2WoWMny42W6v"
   },
   "outputs": [],
   "source": [
    "import pandas as pd\n",
    "from sklearn.model_selection import train_test_split\n",
    "from sklearn.preprocessing import StandardScaler\n",
    "\n",
    "# Load the dataset\n",
    "data_path = \"datasetIRB2400.csv\"  # Update this path if different\n",
    "data = pd.read_csv(data_path)"
   ]
  },
  {
   "cell_type": "code",
   "execution_count": 3,
   "metadata": {
    "colab": {
     "base_uri": "https://localhost:8080/"
    },
    "id": "bVtqmb_R2Vsi",
    "outputId": "2c85e421-e1d6-46ee-be10-ed7f3c82b059"
   },
   "outputs": [
    {
     "name": "stdout",
     "output_type": "stream",
     "text": [
      "         x         y          z     yaw   pitch    roll   q1_in   q2_in  \\\n",
      "0 -80.9148 -121.7499  1896.4867 -0.6941  0.9229 -1.4411 -2.2407 -0.7975   \n",
      "1 -80.9148 -121.7499  1896.4867 -0.6941  0.9229 -1.4411 -2.2233 -0.8511   \n",
      "2 -80.9148 -121.7499  1896.4867 -0.6941  0.9229 -1.4411 -2.2567 -0.9468   \n",
      "3 -80.9148 -121.7499  1896.4867 -0.6941  0.9229 -1.4411 -2.1557 -0.8205   \n",
      "4 -80.9148 -121.7499  1896.4867 -0.6941  0.9229 -1.4411 -2.3267 -0.9279   \n",
      "\n",
      "    q3_in   q4_in   q5_in   q6_in  q1_out  q2_out  q3_out  q4_out  q5_out  \\\n",
      "0  0.6551 -3.2989  1.1212  5.7052 -2.2347 -0.8949  0.6113 -3.2841  1.2117   \n",
      "1  0.5966 -3.2320  1.1662  5.6429 -2.2347 -0.8949  0.6113 -3.2841  1.2117   \n",
      "2  0.5820 -3.3165  1.1220  5.5944 -2.2347 -0.8949  0.6113 -3.2841  1.2117   \n",
      "3  0.5532 -3.1993  1.2697  5.7474 -2.2347 -0.8949  0.6113 -3.2841  1.2117   \n",
      "4  0.6722 -3.2867  1.2266  5.6304 -2.2347 -0.8949  0.6113 -3.2841  1.2117   \n",
      "\n",
      "   q6_out  \n",
      "0  5.6792  \n",
      "1  5.6792  \n",
      "2  5.6792  \n",
      "3  5.6792  \n",
      "4  5.6792  \n",
      "<class 'pandas.core.frame.DataFrame'>\n",
      "RangeIndex: 300000 entries, 0 to 299999\n",
      "Data columns (total 18 columns):\n",
      " #   Column  Non-Null Count   Dtype  \n",
      "---  ------  --------------   -----  \n",
      " 0   x       300000 non-null  float64\n",
      " 1   y       300000 non-null  float64\n",
      " 2   z       300000 non-null  float64\n",
      " 3   yaw     300000 non-null  float64\n",
      " 4   pitch   300000 non-null  float64\n",
      " 5   roll    300000 non-null  float64\n",
      " 6   q1_in   300000 non-null  float64\n",
      " 7   q2_in   300000 non-null  float64\n",
      " 8   q3_in   300000 non-null  float64\n",
      " 9   q4_in   300000 non-null  float64\n",
      " 10  q5_in   300000 non-null  float64\n",
      " 11  q6_in   300000 non-null  float64\n",
      " 12  q1_out  300000 non-null  float64\n",
      " 13  q2_out  300000 non-null  float64\n",
      " 14  q3_out  300000 non-null  float64\n",
      " 15  q4_out  300000 non-null  float64\n",
      " 16  q5_out  300000 non-null  float64\n",
      " 17  q6_out  300000 non-null  float64\n",
      "dtypes: float64(18)\n",
      "memory usage: 41.2 MB\n",
      "None\n"
     ]
    }
   ],
   "source": [
    "# Inspect the data\n",
    "print(data.head())\n",
    "print(data.info())\n",
    "\n",
    "# Drop unnecessary columns or rows if any (customize as needed)\n",
    "# For instance, if there are null values:\n",
    "data = data.dropna()"
   ]
  },
  {
   "cell_type": "code",
   "execution_count": 4,
   "metadata": {
    "id": "4Zc0fEBB2cGm"
   },
   "outputs": [],
   "source": [
    "# Update the feature and target column names based on your dataset\n",
    "# \"q1_in\",\"q2_in\",\"q3_in\",\"q4_in\",\"q5_in\", \"q6_in\",\"x\", \"y\", \"z\"\n",
    "X = data.drop(columns=[\"q1_out\",\"q2_out\",\"q3_out\",\"q4_out\",\"q5_out\", \"q6_out\"])\n",
    "y = data[[\"q1_out\",\"q2_out\",\"q3_out\",\"q4_out\",\"q5_out\", \"q6_out\"]]"
   ]
  },
  {
   "cell_type": "code",
   "execution_count": 5,
   "metadata": {
    "id": "WCAYbD8_2eqJ"
   },
   "outputs": [],
   "source": [
    "# Split the data into training and testing sets\n",
    "X_train, X_test, y_train, y_test = train_test_split(X, y, test_size=0.2, random_state=42)"
   ]
  },
  {
   "cell_type": "code",
   "execution_count": 6,
   "metadata": {
    "colab": {
     "base_uri": "https://localhost:8080/"
    },
    "id": "vfKoLCKU17X6",
    "outputId": "bc13449a-8124-422f-a71d-cbe1d9f455dd"
   },
   "outputs": [
    {
     "name": "stdout",
     "output_type": "stream",
     "text": [
      "Preprocessing complete. Data is ready for training.\n"
     ]
    }
   ],
   "source": [
    "# Standardize the features\n",
    "scaler = StandardScaler()\n",
    "X_train_scaled = scaler.fit_transform(X_train)\n",
    "X_test_scaled = scaler.transform(X_test)\n",
    "\n",
    "# Save the processed data if needed\n",
    "pd.DataFrame(X_train_scaled).to_csv(\"./X_train_scaled.csv\", index=False)\n",
    "pd.DataFrame(X_test_scaled).to_csv(\"./X_test_scaled.csv\", index=False)\n",
    "pd.DataFrame(y_train).to_csv(\"./y_train.csv\", index=False)\n",
    "pd.DataFrame(y_test).to_csv(\"./y_test.csv\", index=False)\n",
    "\n",
    "print(\"Preprocessing complete. Data is ready for training.\")\n"
   ]
  },
  {
   "cell_type": "code",
   "execution_count": 7,
   "metadata": {
    "id": "dLK9vkbo30lE"
   },
   "outputs": [],
   "source": [
    "import tensorflow as tf\n",
    "from tensorflow.keras.models import Sequential\n",
    "from tensorflow.keras.layers import Dense, Dropout, BatchNormalization\n",
    "from tensorflow.keras.optimizers import Adam\n",
    "from tensorflow.keras.callbacks import EarlyStopping"
   ]
  },
  {
   "cell_type": "code",
   "execution_count": 8,
   "metadata": {
    "colab": {
     "base_uri": "https://localhost:8080/"
    },
    "id": "xovlplNE3xKf",
    "outputId": "b35f3213-4cd7-4d25-fda2-19e074a63395"
   },
   "outputs": [
    {
     "name": "stderr",
     "output_type": "stream",
     "text": [
      "c:\\Users\\umair\\AppData\\Local\\Programs\\Python\\Python312\\Lib\\site-packages\\keras\\src\\layers\\core\\dense.py:87: UserWarning: Do not pass an `input_shape`/`input_dim` argument to a layer. When using Sequential models, prefer using an `Input(shape)` object as the first layer in the model instead.\n",
      "  super().__init__(activity_regularizer=activity_regularizer, **kwargs)\n"
     ]
    }
   ],
   "source": [
    "# # Build the neural network model\n",
    "# model = Sequential([\n",
    "#     Dense(128, activation='relu', input_shape=(X_train_scaled.shape[1],)),\n",
    "#     Dropout(0.3),\n",
    "#     Dense(64, activation='relu'),\n",
    "#     Dropout(0.2),\n",
    "#     Dense(32, activation='relu'),\n",
    "#     Dense(y_train.shape[1], activation='linear')  # Output layer for regression\n",
    "# ])\n",
    "\n",
    "# Build the model with more layers and neurons\n",
    "model = Sequential([\n",
    "    Dense(256, input_dim=X_train.shape[1], activation='relu'),  # Input layer\n",
    "    BatchNormalization(),\n",
    "    Dropout(0.3),\n",
    "\n",
    "    Dense(512, activation='relu'),  # Hidden layer 1\n",
    "    BatchNormalization(),\n",
    "    Dropout(0.4),\n",
    "\n",
    "    Dense(512, activation='relu'),  # Hidden layer 2\n",
    "    BatchNormalization(),\n",
    "    Dropout(0.4),\n",
    "\n",
    "    Dense(256, activation='relu'),  # Hidden layer 3\n",
    "    BatchNormalization(),\n",
    "    Dropout(0.3),\n",
    "\n",
    "    Dense(128, activation='relu'),  # Hidden layer 4\n",
    "    BatchNormalization(),\n",
    "    Dropout(0.3),\n",
    "\n",
    "    Dense(64, activation='relu'),  # Hidden layer 5\n",
    "    BatchNormalization(),\n",
    "    Dropout(0.2),\n",
    "\n",
    "    Dense(y_train.shape[1], activation='linear')  # Output layer\n",
    "])\n",
    "\n",
    "# Load pretrained weights if available\n",
    "# model.load_weights(pretrained_weights)\n",
    "\n",
    "# Compile the model with optimal parameters\n",
    "loss = tf.keras.losses.MeanSquaredError()\n",
    "optimizer = Adam(learning_rate=1e-3)  # Lower learning rate for fine-tuning\n",
    "early_stop = EarlyStopping(monitor='val_loss', patience=20, restore_best_weights=True)\n",
    "\n",
    "model.compile(optimizer=optimizer, loss=loss, metrics=[tf.keras.metrics.RootMeanSquaredError(name='rmse')])\n"
   ]
  },
  {
   "cell_type": "code",
   "execution_count": 9,
   "metadata": {
    "colab": {
     "base_uri": "https://localhost:8080/"
    },
    "id": "zHNREU6d3vnR",
    "outputId": "66bc9f09-c1a0-466e-e837-e6e9717c8b56"
   },
   "outputs": [
    {
     "name": "stdout",
     "output_type": "stream",
     "text": [
      "Epoch 1/5\n",
      "\u001b[1m3000/3000\u001b[0m \u001b[32m━━━━━━━━━━━━━━━━━━━━\u001b[0m\u001b[37m\u001b[0m \u001b[1m37s\u001b[0m 10ms/step - loss: 0.9061 - rmse: 0.9219 - val_loss: 0.0442 - val_rmse: 0.2103\n",
      "Epoch 2/5\n",
      "\u001b[1m3000/3000\u001b[0m \u001b[32m━━━━━━━━━━━━━━━━━━━━\u001b[0m\u001b[37m\u001b[0m \u001b[1m32s\u001b[0m 11ms/step - loss: 0.3967 - rmse: 0.6298 - val_loss: 0.0593 - val_rmse: 0.2435\n",
      "Epoch 3/5\n",
      "\u001b[1m3000/3000\u001b[0m \u001b[32m━━━━━━━━━━━━━━━━━━━━\u001b[0m\u001b[37m\u001b[0m \u001b[1m32s\u001b[0m 11ms/step - loss: 0.3548 - rmse: 0.5956 - val_loss: 0.0377 - val_rmse: 0.1942\n",
      "Epoch 4/5\n",
      "\u001b[1m3000/3000\u001b[0m \u001b[32m━━━━━━━━━━━━━━━━━━━━\u001b[0m\u001b[37m\u001b[0m \u001b[1m32s\u001b[0m 11ms/step - loss: 0.3264 - rmse: 0.5713 - val_loss: 0.0392 - val_rmse: 0.1980\n",
      "Epoch 5/5\n",
      "\u001b[1m3000/3000\u001b[0m \u001b[32m━━━━━━━━━━━━━━━━━━━━\u001b[0m\u001b[37m\u001b[0m \u001b[1m31s\u001b[0m 10ms/step - loss: 0.2914 - rmse: 0.5398 - val_loss: 0.0306 - val_rmse: 0.1750\n",
      "\u001b[1m1875/1875\u001b[0m \u001b[32m━━━━━━━━━━━━━━━━━━━━\u001b[0m\u001b[37m\u001b[0m \u001b[1m5s\u001b[0m 2ms/step - loss: 0.0308 - rmse: 0.1754\n"
     ]
    },
    {
     "name": "stderr",
     "output_type": "stream",
     "text": [
      "WARNING:absl:You are saving your model as an HDF5 file via `model.save()` or `keras.saving.save_model(model)`. This file format is considered legacy. We recommend using instead the native Keras format, e.g. `model.save('my_model.keras')` or `keras.saving.save_model(model, 'my_model.keras')`. \n"
     ]
    },
    {
     "name": "stdout",
     "output_type": "stream",
     "text": [
      "Test Loss: 0.03075513429939747, Test RMSE: 0.1753714233636856\n"
     ]
    }
   ],
   "source": [
    "model.compile(optimizer=optimizer, loss=loss, metrics=[tf.keras.metrics.RootMeanSquaredError(name='rmse')])\n",
    "\n",
    "# Train the model\n",
    "history = model.fit(\n",
    "    X_train_scaled, y_train,\n",
    "    validation_split=0.2,\n",
    "    epochs=5,\n",
    "    batch_size=64,\n",
    "    callbacks=[early_stop],\n",
    "    verbose=1\n",
    ")\n",
    "\n",
    "# Evaluate the model\n",
    "loss, rmse = model.evaluate(X_test_scaled, y_test, verbose=1)\n",
    "print(f\"Test Loss: {loss}, Test RMSE: {rmse}\")\n",
    "\n",
    "# Save the trained model\n",
    "model.save(\"robot_kinematics_model.h5\")"
   ]
  },
  {
   "cell_type": "code",
   "execution_count": 10,
   "metadata": {
    "colab": {
     "base_uri": "https://localhost:8080/"
    },
    "id": "PiXwbsrv-f7d",
    "outputId": "ae6ca167-a251-481f-8aa8-0bb9cae8bd91"
   },
   "outputs": [
    {
     "name": "stderr",
     "output_type": "stream",
     "text": [
      "c:\\Users\\umair\\AppData\\Local\\Programs\\Python\\Python312\\Lib\\site-packages\\sklearn\\utils\\validation.py:2739: UserWarning: X does not have valid feature names, but StandardScaler was fitted with feature names\n",
      "  warnings.warn(\n"
     ]
    },
    {
     "name": "stdout",
     "output_type": "stream",
     "text": [
      "\u001b[1m1/1\u001b[0m \u001b[32m━━━━━━━━━━━━━━━━━━━━\u001b[0m\u001b[37m\u001b[0m \u001b[1m0s\u001b[0m 248ms/step\n",
      "Predicted output:\n",
      "[[-0.3589563  1.0244242 -0.8013429 -2.9221222  1.2968899  1.7713171]]\n"
     ]
    }
   ],
   "source": [
    "import numpy as np\n",
    "\n",
    "# Example single input (replace with your actual input row index or values)\n",
    "single_input = np.array(X_train.iloc[0])  # Extract the row and convert to a NumPy array\n",
    "\n",
    "# Reshape the input to ensure it's 2D (one sample with multiple features)\n",
    "single_input = single_input.reshape(1, -1)  # Now it has shape (1, n_features)\n",
    "\n",
    "# Scale the input using the same scaler as during training\n",
    "single_input_scaled = scaler.transform(single_input)  # Assuming you used StandardScaler\n",
    "\n",
    "# Predict the output using the trained model\n",
    "predicted_output = model.predict(single_input_scaled)\n",
    "\n",
    "print(\"Predicted output:\")\n",
    "print(predicted_output)"
   ]
  },
  {
   "cell_type": "code",
   "execution_count": 11,
   "metadata": {
    "colab": {
     "base_uri": "https://localhost:8080/"
    },
    "id": "F1-FmqhDC3FD",
    "outputId": "444475d2-e553-42f0-a582-09d611ed3095"
   },
   "outputs": [
    {
     "name": "stdout",
     "output_type": "stream",
     "text": [
      "\u001b[1m1/1\u001b[0m \u001b[32m━━━━━━━━━━━━━━━━━━━━\u001b[0m\u001b[37m\u001b[0m \u001b[1m0s\u001b[0m 235ms/step\n",
      "Random 20 Samples:\n",
      "               x         y          z     yaw   pitch    roll   q1_in   q2_in  \\\n",
      "92790  -174.5724 -509.1983  1487.1044 -1.4991  0.7108 -0.9685  1.1577 -1.2782   \n",
      "117344  631.0593 -389.7585   918.7209 -2.0306  0.4093  0.2231 -0.4129  0.7726   \n",
      "\n",
      "         q3_in   q4_in   q5_in   q6_in  \n",
      "92790  -0.1382  2.0153 -1.5716  1.0614  \n",
      "117344 -0.3523 -2.5262  0.5990 -5.2470  \n",
      "\n",
      "Actual Outputs:\n",
      "        q1_out  q2_out  q3_out  q4_out  q5_out  q6_out\n",
      "92790   1.0985 -1.2891 -0.0703  2.0297 -1.5885  1.0505\n",
      "117344 -0.5076  0.7601 -0.4265 -2.4533  0.6776 -5.3273\n",
      "\n",
      "Predicted Outputs:\n",
      "[[ 1.4039541  -1.2455312  -0.1707567   2.1034045  -1.4951164   1.0409797 ]\n",
      " [-0.17429204  0.8754224  -0.3326313  -2.5037773   0.7495024  -5.0533857 ]]\n"
     ]
    }
   ],
   "source": [
    "import numpy as np\n",
    "import pandas as pd\n",
    "\n",
    "# Generate 20 random indices within the range of the dataset (0 to 299999)\n",
    "random_indices = np.random.randint(0, 200000, size=2)\n",
    "\n",
    "# random_indices = 23311\n",
    "\n",
    "# Select 20 random samples from the dataset\n",
    "random_samples = X_train.iloc[random_indices]  # Features\n",
    "random_actual_outputs = y_train.iloc[random_indices]  # Actual target outputs\n",
    "\n",
    "# Scale the inputs using the same scaler as during training\n",
    "random_samples_scaled = scaler.transform(random_samples)\n",
    "\n",
    "# Predict the outputs using the trained model\n",
    "predicted_outputs = model.predict(random_samples_scaled)\n",
    "\n",
    "print(\"Random 20 Samples:\")\n",
    "print(random_samples)\n",
    "print(\"\\nActual Outputs:\")\n",
    "print(random_actual_outputs)\n",
    "print(\"\\nPredicted Outputs:\")\n",
    "print(predicted_outputs)"
   ]
  },
  {
   "cell_type": "code",
   "execution_count": 12,
   "metadata": {
    "colab": {
     "base_uri": "https://localhost:8080/"
    },
    "id": "jQMapwo5__h5",
    "outputId": "d4cc9f84-dd11-47dd-b58a-145d6bbbbb98"
   },
   "outputs": [
    {
     "name": "stdout",
     "output_type": "stream",
     "text": [
      "\u001b[1m1/1\u001b[0m \u001b[32m━━━━━━━━━━━━━━━━━━━━\u001b[0m\u001b[37m\u001b[0m \u001b[1m0s\u001b[0m 33ms/step\n",
      "Random 20 Samples:\n",
      "               x         y          z     yaw   pitch    roll   q1_in   q2_in  \\\n",
      "212327 -686.8876 -346.4181  1352.3453  1.0975  1.3345 -2.3418  0.5545 -1.4165   \n",
      "30132   446.3427 -145.9601  1116.7101 -1.3425 -1.1071  0.7696 -0.2953  0.4892   \n",
      "\n",
      "         q3_in   q4_in   q5_in   q6_in  \n",
      "212327  0.0642 -0.7056 -0.2994 -2.5594  \n",
      "30132  -0.5661 -0.2213 -1.1785  5.9708  \n",
      "\n",
      "Actual Outputs:\n",
      "        q1_out  q2_out  q3_out  q4_out  q5_out  q6_out\n",
      "212327  0.4894 -1.4765 -0.0289 -0.7286 -0.3076 -2.5738\n",
      "30132  -0.3454  0.3989 -0.5330 -0.1816 -1.1117  5.9738\n",
      "\n",
      "Predicted Outputs:\n",
      "[[ 0.641224   -1.4181796   0.0408111  -0.55604404 -0.22010803 -2.5059502 ]\n",
      " [-0.21646768  0.44913214 -0.5916454  -0.04699313 -1.1392686   5.636353  ]]\n"
     ]
    }
   ],
   "source": [
    "import numpy as np\n",
    "import pandas as pd\n",
    "\n",
    "# Generate 20 random indices within the range of the dataset (0 to 299999)\n",
    "random_indices = np.random.randint(0, 200000, size=2)\n",
    "\n",
    "# Select 20 random samples from the dataset\n",
    "random_samples = X_train.iloc[random_indices]  # Features\n",
    "random_actual_outputs = y_train.iloc[random_indices]  # Actual target outputs\n",
    "\n",
    "# Scale the inputs using the same scaler as during training\n",
    "random_samples_scaled = scaler.transform(random_samples)\n",
    "\n",
    "# Predict the outputs using the trained model\n",
    "predicted_outputs = model.predict(random_samples_scaled)\n",
    "\n",
    "print(\"Random 20 Samples:\")\n",
    "print(random_samples)\n",
    "print(\"\\nActual Outputs:\")\n",
    "print(random_actual_outputs)\n",
    "print(\"\\nPredicted Outputs:\")\n",
    "print(predicted_outputs)"
   ]
  }
 ],
 "metadata": {
  "accelerator": "GPU",
  "colab": {
   "gpuType": "T4",
   "provenance": []
  },
  "kernelspec": {
   "display_name": "Python 3",
   "name": "python3"
  },
  "language_info": {
   "codemirror_mode": {
    "name": "ipython",
    "version": 3
   },
   "file_extension": ".py",
   "mimetype": "text/x-python",
   "name": "python",
   "nbconvert_exporter": "python",
   "pygments_lexer": "ipython3",
   "version": "3.12.5"
  }
 },
 "nbformat": 4,
 "nbformat_minor": 0
}
